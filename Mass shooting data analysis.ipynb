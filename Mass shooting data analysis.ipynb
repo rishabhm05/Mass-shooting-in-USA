{
 "cells": [
  {
   "cell_type": "code",
   "execution_count": 1,
   "metadata": {},
   "outputs": [],
   "source": [
    "import pandas as pd\n",
    "import numpy as np\n",
    "import matplotlib.pyplot as plt\n",
    "import seaborn as sns\n",
    "%matplotlib inline"
   ]
  },
  {
   "cell_type": "code",
   "execution_count": 2,
   "metadata": {},
   "outputs": [],
   "source": [
    "df=pd.read_csv(r\"C:\\Users\\Asus\\Downloads\\datasets_2778_6345_Mass Shootings Dataset Ver 2.csv\",encoding=\"ISO-8859-1\")"
   ]
  },
  {
   "cell_type": "code",
   "execution_count": 3,
   "metadata": {},
   "outputs": [
    {
     "data": {
      "text/html": [
       "<div>\n",
       "<style scoped>\n",
       "    .dataframe tbody tr th:only-of-type {\n",
       "        vertical-align: middle;\n",
       "    }\n",
       "\n",
       "    .dataframe tbody tr th {\n",
       "        vertical-align: top;\n",
       "    }\n",
       "\n",
       "    .dataframe thead th {\n",
       "        text-align: right;\n",
       "    }\n",
       "</style>\n",
       "<table border=\"1\" class=\"dataframe\">\n",
       "  <thead>\n",
       "    <tr style=\"text-align: right;\">\n",
       "      <th></th>\n",
       "      <th>S#</th>\n",
       "      <th>Title</th>\n",
       "      <th>Location</th>\n",
       "      <th>Date</th>\n",
       "      <th>Summary</th>\n",
       "      <th>Fatalities</th>\n",
       "      <th>Injured</th>\n",
       "      <th>Total victims</th>\n",
       "      <th>Mental Health Issues</th>\n",
       "      <th>Race</th>\n",
       "      <th>Gender</th>\n",
       "      <th>Latitude</th>\n",
       "      <th>Longitude</th>\n",
       "    </tr>\n",
       "  </thead>\n",
       "  <tbody>\n",
       "    <tr>\n",
       "      <th>0</th>\n",
       "      <td>1</td>\n",
       "      <td>Las Vegas Strip mass shooting</td>\n",
       "      <td>Las Vegas, NV</td>\n",
       "      <td>10/1/2017</td>\n",
       "      <td>NaN</td>\n",
       "      <td>58</td>\n",
       "      <td>527</td>\n",
       "      <td>585</td>\n",
       "      <td>Unclear</td>\n",
       "      <td>White</td>\n",
       "      <td>M</td>\n",
       "      <td>36.181271</td>\n",
       "      <td>-115.134132</td>\n",
       "    </tr>\n",
       "    <tr>\n",
       "      <th>1</th>\n",
       "      <td>2</td>\n",
       "      <td>San Francisco UPS shooting</td>\n",
       "      <td>San Francisco, CA</td>\n",
       "      <td>6/14/2017</td>\n",
       "      <td>Jimmy Lam, 38, fatally shot three coworkers an...</td>\n",
       "      <td>3</td>\n",
       "      <td>2</td>\n",
       "      <td>5</td>\n",
       "      <td>Yes</td>\n",
       "      <td>Asian</td>\n",
       "      <td>M</td>\n",
       "      <td>NaN</td>\n",
       "      <td>NaN</td>\n",
       "    </tr>\n",
       "    <tr>\n",
       "      <th>2</th>\n",
       "      <td>3</td>\n",
       "      <td>Pennsylvania supermarket shooting</td>\n",
       "      <td>Tunkhannock, PA</td>\n",
       "      <td>6/7/2017</td>\n",
       "      <td>Randy Stair, a 24-year-old worker at Weis groc...</td>\n",
       "      <td>3</td>\n",
       "      <td>0</td>\n",
       "      <td>3</td>\n",
       "      <td>Unclear</td>\n",
       "      <td>White</td>\n",
       "      <td>M</td>\n",
       "      <td>NaN</td>\n",
       "      <td>NaN</td>\n",
       "    </tr>\n",
       "    <tr>\n",
       "      <th>3</th>\n",
       "      <td>4</td>\n",
       "      <td>Florida awning manufacturer shooting</td>\n",
       "      <td>Orlando, Florida</td>\n",
       "      <td>6/5/2017</td>\n",
       "      <td>John Robert Neumann, Jr., 45, a former employe...</td>\n",
       "      <td>5</td>\n",
       "      <td>0</td>\n",
       "      <td>5</td>\n",
       "      <td>Unclear</td>\n",
       "      <td>NaN</td>\n",
       "      <td>M</td>\n",
       "      <td>NaN</td>\n",
       "      <td>NaN</td>\n",
       "    </tr>\n",
       "    <tr>\n",
       "      <th>4</th>\n",
       "      <td>5</td>\n",
       "      <td>Rural Ohio nursing home shooting</td>\n",
       "      <td>Kirkersville, Ohio</td>\n",
       "      <td>5/12/2017</td>\n",
       "      <td>Thomas Hartless, 43, shot and killed a former ...</td>\n",
       "      <td>3</td>\n",
       "      <td>0</td>\n",
       "      <td>3</td>\n",
       "      <td>Yes</td>\n",
       "      <td>White</td>\n",
       "      <td>M</td>\n",
       "      <td>NaN</td>\n",
       "      <td>NaN</td>\n",
       "    </tr>\n",
       "  </tbody>\n",
       "</table>\n",
       "</div>"
      ],
      "text/plain": [
       "   S#                                 Title            Location       Date  \\\n",
       "0   1         Las Vegas Strip mass shooting       Las Vegas, NV  10/1/2017   \n",
       "1   2            San Francisco UPS shooting   San Francisco, CA  6/14/2017   \n",
       "2   3     Pennsylvania supermarket shooting     Tunkhannock, PA   6/7/2017   \n",
       "3   4  Florida awning manufacturer shooting    Orlando, Florida   6/5/2017   \n",
       "4   5      Rural Ohio nursing home shooting  Kirkersville, Ohio  5/12/2017   \n",
       "\n",
       "                                             Summary  Fatalities  Injured  \\\n",
       "0                                                NaN          58      527   \n",
       "1  Jimmy Lam, 38, fatally shot three coworkers an...           3        2   \n",
       "2  Randy Stair, a 24-year-old worker at Weis groc...           3        0   \n",
       "3  John Robert Neumann, Jr., 45, a former employe...           5        0   \n",
       "4  Thomas Hartless, 43, shot and killed a former ...           3        0   \n",
       "\n",
       "   Total victims Mental Health Issues   Race Gender   Latitude   Longitude  \n",
       "0            585              Unclear  White      M  36.181271 -115.134132  \n",
       "1              5                  Yes  Asian      M        NaN         NaN  \n",
       "2              3              Unclear  White      M        NaN         NaN  \n",
       "3              5              Unclear    NaN      M        NaN         NaN  \n",
       "4              3                  Yes  White      M        NaN         NaN  "
      ]
     },
     "execution_count": 3,
     "metadata": {},
     "output_type": "execute_result"
    }
   ],
   "source": [
    "df.head()"
   ]
  },
  {
   "cell_type": "code",
   "execution_count": 4,
   "metadata": {},
   "outputs": [],
   "source": [
    "#This dataset is related to mass shooting which are happening in usa .We will first do data munging and then do exploratory data analysis."
   ]
  },
  {
   "cell_type": "code",
   "execution_count": 5,
   "metadata": {},
   "outputs": [
    {
     "data": {
      "text/plain": [
       "(320, 13)"
      ]
     },
     "execution_count": 5,
     "metadata": {},
     "output_type": "execute_result"
    }
   ],
   "source": [
    "df.shape\n",
    "#The data consist of 320 columns and 13 rows"
   ]
  },
  {
   "cell_type": "code",
   "execution_count": 6,
   "metadata": {},
   "outputs": [
    {
     "data": {
      "text/plain": [
       "Index(['S#', 'Title', 'Location', 'Date', 'Summary', 'Fatalities', 'Injured',\n",
       "       'Total victims', 'Mental Health Issues', 'Race', 'Gender', 'Latitude',\n",
       "       'Longitude'],\n",
       "      dtype='object')"
      ]
     },
     "execution_count": 6,
     "metadata": {},
     "output_type": "execute_result"
    }
   ],
   "source": [
    "df.columns\n",
    "#The dataset consist of following columns"
   ]
  },
  {
   "cell_type": "code",
   "execution_count": 7,
   "metadata": {},
   "outputs": [
    {
     "data": {
      "text/plain": [
       "S#                        int64\n",
       "Title                    object\n",
       "Location                 object\n",
       "Date                     object\n",
       "Summary                  object\n",
       "Fatalities                int64\n",
       "Injured                   int64\n",
       "Total victims             int64\n",
       "Mental Health Issues     object\n",
       "Race                     object\n",
       "Gender                   object\n",
       "Latitude                float64\n",
       "Longitude               float64\n",
       "dtype: object"
      ]
     },
     "execution_count": 7,
     "metadata": {},
     "output_type": "execute_result"
    }
   ],
   "source": [
    "df.dtypes"
   ]
  },
  {
   "cell_type": "code",
   "execution_count": 8,
   "metadata": {},
   "outputs": [],
   "source": [
    "#s# columns is of no use and also we find the data type of date column is not correct we have to change its datatype to datetype\n",
    "df.drop('S#',inplace=True,axis=1)"
   ]
  },
  {
   "cell_type": "code",
   "execution_count": 9,
   "metadata": {},
   "outputs": [
    {
     "data": {
      "text/html": [
       "<div>\n",
       "<style scoped>\n",
       "    .dataframe tbody tr th:only-of-type {\n",
       "        vertical-align: middle;\n",
       "    }\n",
       "\n",
       "    .dataframe tbody tr th {\n",
       "        vertical-align: top;\n",
       "    }\n",
       "\n",
       "    .dataframe thead th {\n",
       "        text-align: right;\n",
       "    }\n",
       "</style>\n",
       "<table border=\"1\" class=\"dataframe\">\n",
       "  <thead>\n",
       "    <tr style=\"text-align: right;\">\n",
       "      <th></th>\n",
       "      <th>Title</th>\n",
       "      <th>Location</th>\n",
       "      <th>Date</th>\n",
       "      <th>Summary</th>\n",
       "      <th>Fatalities</th>\n",
       "      <th>Injured</th>\n",
       "      <th>Total victims</th>\n",
       "      <th>Mental Health Issues</th>\n",
       "      <th>Race</th>\n",
       "      <th>Gender</th>\n",
       "      <th>Latitude</th>\n",
       "      <th>Longitude</th>\n",
       "    </tr>\n",
       "  </thead>\n",
       "  <tbody>\n",
       "    <tr>\n",
       "      <th>0</th>\n",
       "      <td>Las Vegas Strip mass shooting</td>\n",
       "      <td>Las Vegas, NV</td>\n",
       "      <td>10/1/2017</td>\n",
       "      <td>NaN</td>\n",
       "      <td>58</td>\n",
       "      <td>527</td>\n",
       "      <td>585</td>\n",
       "      <td>Unclear</td>\n",
       "      <td>White</td>\n",
       "      <td>M</td>\n",
       "      <td>36.181271</td>\n",
       "      <td>-115.134132</td>\n",
       "    </tr>\n",
       "    <tr>\n",
       "      <th>1</th>\n",
       "      <td>San Francisco UPS shooting</td>\n",
       "      <td>San Francisco, CA</td>\n",
       "      <td>6/14/2017</td>\n",
       "      <td>Jimmy Lam, 38, fatally shot three coworkers an...</td>\n",
       "      <td>3</td>\n",
       "      <td>2</td>\n",
       "      <td>5</td>\n",
       "      <td>Yes</td>\n",
       "      <td>Asian</td>\n",
       "      <td>M</td>\n",
       "      <td>NaN</td>\n",
       "      <td>NaN</td>\n",
       "    </tr>\n",
       "    <tr>\n",
       "      <th>2</th>\n",
       "      <td>Pennsylvania supermarket shooting</td>\n",
       "      <td>Tunkhannock, PA</td>\n",
       "      <td>6/7/2017</td>\n",
       "      <td>Randy Stair, a 24-year-old worker at Weis groc...</td>\n",
       "      <td>3</td>\n",
       "      <td>0</td>\n",
       "      <td>3</td>\n",
       "      <td>Unclear</td>\n",
       "      <td>White</td>\n",
       "      <td>M</td>\n",
       "      <td>NaN</td>\n",
       "      <td>NaN</td>\n",
       "    </tr>\n",
       "    <tr>\n",
       "      <th>3</th>\n",
       "      <td>Florida awning manufacturer shooting</td>\n",
       "      <td>Orlando, Florida</td>\n",
       "      <td>6/5/2017</td>\n",
       "      <td>John Robert Neumann, Jr., 45, a former employe...</td>\n",
       "      <td>5</td>\n",
       "      <td>0</td>\n",
       "      <td>5</td>\n",
       "      <td>Unclear</td>\n",
       "      <td>NaN</td>\n",
       "      <td>M</td>\n",
       "      <td>NaN</td>\n",
       "      <td>NaN</td>\n",
       "    </tr>\n",
       "    <tr>\n",
       "      <th>4</th>\n",
       "      <td>Rural Ohio nursing home shooting</td>\n",
       "      <td>Kirkersville, Ohio</td>\n",
       "      <td>5/12/2017</td>\n",
       "      <td>Thomas Hartless, 43, shot and killed a former ...</td>\n",
       "      <td>3</td>\n",
       "      <td>0</td>\n",
       "      <td>3</td>\n",
       "      <td>Yes</td>\n",
       "      <td>White</td>\n",
       "      <td>M</td>\n",
       "      <td>NaN</td>\n",
       "      <td>NaN</td>\n",
       "    </tr>\n",
       "  </tbody>\n",
       "</table>\n",
       "</div>"
      ],
      "text/plain": [
       "                                  Title            Location       Date  \\\n",
       "0         Las Vegas Strip mass shooting       Las Vegas, NV  10/1/2017   \n",
       "1            San Francisco UPS shooting   San Francisco, CA  6/14/2017   \n",
       "2     Pennsylvania supermarket shooting     Tunkhannock, PA   6/7/2017   \n",
       "3  Florida awning manufacturer shooting    Orlando, Florida   6/5/2017   \n",
       "4      Rural Ohio nursing home shooting  Kirkersville, Ohio  5/12/2017   \n",
       "\n",
       "                                             Summary  Fatalities  Injured  \\\n",
       "0                                                NaN          58      527   \n",
       "1  Jimmy Lam, 38, fatally shot three coworkers an...           3        2   \n",
       "2  Randy Stair, a 24-year-old worker at Weis groc...           3        0   \n",
       "3  John Robert Neumann, Jr., 45, a former employe...           5        0   \n",
       "4  Thomas Hartless, 43, shot and killed a former ...           3        0   \n",
       "\n",
       "   Total victims Mental Health Issues   Race Gender   Latitude   Longitude  \n",
       "0            585              Unclear  White      M  36.181271 -115.134132  \n",
       "1              5                  Yes  Asian      M        NaN         NaN  \n",
       "2              3              Unclear  White      M        NaN         NaN  \n",
       "3              5              Unclear    NaN      M        NaN         NaN  \n",
       "4              3                  Yes  White      M        NaN         NaN  "
      ]
     },
     "execution_count": 9,
     "metadata": {},
     "output_type": "execute_result"
    }
   ],
   "source": [
    "df.head()"
   ]
  },
  {
   "cell_type": "code",
   "execution_count": 10,
   "metadata": {},
   "outputs": [
    {
     "data": {
      "text/plain": [
       "dtype('<M8[ns]')"
      ]
     },
     "execution_count": 10,
     "metadata": {},
     "output_type": "execute_result"
    }
   ],
   "source": [
    "df['Date']=pd.to_datetime(df['Date'])\n",
    "df['Date'].dtypes\n"
   ]
  },
  {
   "cell_type": "code",
   "execution_count": 11,
   "metadata": {},
   "outputs": [
    {
     "data": {
      "text/plain": [
       "Title                    0\n",
       "Location                45\n",
       "Date                     0\n",
       "Summary                  1\n",
       "Fatalities               0\n",
       "Injured                  0\n",
       "Total victims            0\n",
       "Mental Health Issues     0\n",
       "Race                     2\n",
       "Gender                   0\n",
       "Latitude                17\n",
       "Longitude               17\n",
       "dtype: int64"
      ]
     },
     "execution_count": 11,
     "metadata": {},
     "output_type": "execute_result"
    }
   ],
   "source": [
    "#let us find the null values in dataset\n",
    "df.isnull().sum()\n",
    "\n"
   ]
  },
  {
   "cell_type": "code",
   "execution_count": 12,
   "metadata": {},
   "outputs": [
    {
     "data": {
      "text/html": [
       "<div>\n",
       "<style scoped>\n",
       "    .dataframe tbody tr th:only-of-type {\n",
       "        vertical-align: middle;\n",
       "    }\n",
       "\n",
       "    .dataframe tbody tr th {\n",
       "        vertical-align: top;\n",
       "    }\n",
       "\n",
       "    .dataframe thead th {\n",
       "        text-align: right;\n",
       "    }\n",
       "</style>\n",
       "<table border=\"1\" class=\"dataframe\">\n",
       "  <thead>\n",
       "    <tr style=\"text-align: right;\">\n",
       "      <th></th>\n",
       "      <th>Fatalities</th>\n",
       "      <th>Injured</th>\n",
       "      <th>Total victims</th>\n",
       "      <th>Latitude</th>\n",
       "      <th>Longitude</th>\n",
       "    </tr>\n",
       "  </thead>\n",
       "  <tbody>\n",
       "    <tr>\n",
       "      <th>count</th>\n",
       "      <td>320.000000</td>\n",
       "      <td>320.0000</td>\n",
       "      <td>320.000000</td>\n",
       "      <td>303.000000</td>\n",
       "      <td>303.000000</td>\n",
       "    </tr>\n",
       "    <tr>\n",
       "      <th>mean</th>\n",
       "      <td>4.375000</td>\n",
       "      <td>6.1625</td>\n",
       "      <td>10.187500</td>\n",
       "      <td>37.225076</td>\n",
       "      <td>-94.429539</td>\n",
       "    </tr>\n",
       "    <tr>\n",
       "      <th>std</th>\n",
       "      <td>5.652142</td>\n",
       "      <td>30.0169</td>\n",
       "      <td>33.757607</td>\n",
       "      <td>5.536365</td>\n",
       "      <td>16.513296</td>\n",
       "    </tr>\n",
       "    <tr>\n",
       "      <th>min</th>\n",
       "      <td>0.000000</td>\n",
       "      <td>0.0000</td>\n",
       "      <td>3.000000</td>\n",
       "      <td>21.325512</td>\n",
       "      <td>-161.792752</td>\n",
       "    </tr>\n",
       "    <tr>\n",
       "      <th>25%</th>\n",
       "      <td>1.000000</td>\n",
       "      <td>1.0000</td>\n",
       "      <td>4.000000</td>\n",
       "      <td>33.571459</td>\n",
       "      <td>-110.205485</td>\n",
       "    </tr>\n",
       "    <tr>\n",
       "      <th>50%</th>\n",
       "      <td>3.000000</td>\n",
       "      <td>3.0000</td>\n",
       "      <td>5.000000</td>\n",
       "      <td>36.443290</td>\n",
       "      <td>-88.122998</td>\n",
       "    </tr>\n",
       "    <tr>\n",
       "      <th>75%</th>\n",
       "      <td>5.250000</td>\n",
       "      <td>5.0000</td>\n",
       "      <td>9.000000</td>\n",
       "      <td>41.483844</td>\n",
       "      <td>-81.703237</td>\n",
       "    </tr>\n",
       "    <tr>\n",
       "      <th>max</th>\n",
       "      <td>58.000000</td>\n",
       "      <td>527.0000</td>\n",
       "      <td>585.000000</td>\n",
       "      <td>60.790539</td>\n",
       "      <td>-69.707823</td>\n",
       "    </tr>\n",
       "  </tbody>\n",
       "</table>\n",
       "</div>"
      ],
      "text/plain": [
       "       Fatalities   Injured  Total victims    Latitude   Longitude\n",
       "count  320.000000  320.0000     320.000000  303.000000  303.000000\n",
       "mean     4.375000    6.1625      10.187500   37.225076  -94.429539\n",
       "std      5.652142   30.0169      33.757607    5.536365   16.513296\n",
       "min      0.000000    0.0000       3.000000   21.325512 -161.792752\n",
       "25%      1.000000    1.0000       4.000000   33.571459 -110.205485\n",
       "50%      3.000000    3.0000       5.000000   36.443290  -88.122998\n",
       "75%      5.250000    5.0000       9.000000   41.483844  -81.703237\n",
       "max     58.000000  527.0000     585.000000   60.790539  -69.707823"
      ]
     },
     "execution_count": 12,
     "metadata": {},
     "output_type": "execute_result"
    }
   ],
   "source": [
    "df.describe()"
   ]
  },
  {
   "cell_type": "markdown",
   "metadata": {},
   "source": [
    "# EXPLOARTORY DATA ANALYSIS"
   ]
  },
  {
   "cell_type": "code",
   "execution_count": 13,
   "metadata": {},
   "outputs": [
    {
     "data": {
      "text/plain": [
       "<matplotlib.axes._subplots.AxesSubplot at 0x21e7be9d808>"
      ]
     },
     "execution_count": 13,
     "metadata": {},
     "output_type": "execute_result"
    },
    {
     "data": {
      "image/png": "[encoded data removed]",
      "text/plain": [
       "<Figure size 432x288 with 1 Axes>"
      ]
     },
     "metadata": {
      "needs_background": "light"
     },
     "output_type": "display_data"
    }
   ],
   "source": [
    "df['Fatalities'].plot(kind='hist',bins=5)\n",
    "#This plot shows most of the death in various location ranging in between 0-10"
   ]
  },
  {
   "cell_type": "code",
   "execution_count": 14,
   "metadata": {},
   "outputs": [
    {
     "data": {
      "text/plain": [
       "<matplotlib.axes._subplots.AxesSubplot at 0x21e7c645448>"
      ]
     },
     "execution_count": 14,
     "metadata": {},
     "output_type": "execute_result"
    },
    {
     "data": {
      "image/png": "[encoded data removed]",
      "text/plain": [
       "<Figure size 432x288 with 1 Axes>"
      ]
     },
     "metadata": {
      "needs_background": "light"
     },
     "output_type": "display_data"
    }
   ],
   "source": [
    "df['Injured'].plot(kind='hist',bins=5)"
   ]
  },
  {
   "cell_type": "code",
   "execution_count": 15,
   "metadata": {},
   "outputs": [],
   "source": [
    "df['Year']=df.Date.dt.year"
   ]
  },
  {
   "cell_type": "code",
   "execution_count": 42,
   "metadata": {},
   "outputs": [
    {
     "data": {
      "text/plain": [
       "<matplotlib.axes._subplots.AxesSubplot at 0x21e7d019488>"
      ]
     },
     "execution_count": 42,
     "metadata": {},
     "output_type": "execute_result"
    },
    {
     "data": {
      "image/png": "[encoded data removed]",
      "text/plain": [
       "<Figure size 1296x360 with 1 Axes>"
      ]
     },
     "metadata": {
      "needs_background": "light"
     },
     "output_type": "display_data"
    }
   ],
   "source": [
    "plt.rcParams[\"figure.figsize\"]=(18,5)\n",
    "sns.barplot(x=df['Year'],y=df['Fatalities'],ci=None)\n",
    "#This plot shows maximum fatalities weren happen in year 1990"
   ]
  },
  {
   "cell_type": "code",
   "execution_count": 21,
   "metadata": {},
   "outputs": [],
   "source": [
    "import datetime as dt\n",
    "df['Weekday']=df['Date'].apply(lambda x:dt.datetime.strftime(x, '%A'))"
   ]
  },
  {
   "cell_type": "code",
   "execution_count": 22,
   "metadata": {},
   "outputs": [
    {
     "data": {
      "text/plain": [
       "<matplotlib.axes._subplots.AxesSubplot at 0x21e7cbbce08>"
      ]
     },
     "execution_count": 22,
     "metadata": {},
     "output_type": "execute_result"
    },
    {
     "data": {
      "image/png": "[encoded data removed]",
      "text/plain": [
       "<Figure size 1296x360 with 1 Axes>"
      ]
     },
     "metadata": {
      "needs_background": "light"
     },
     "output_type": "display_data"
    }
   ],
   "source": [
    "sns.barplot(x=df['Weekday'],y=df['Fatalities'],ci=None)"
   ]
  },
  {
   "cell_type": "code",
   "execution_count": 23,
   "metadata": {},
   "outputs": [
    {
     "data": {
      "text/plain": [
       "White American or European American                    122\n",
       "Black American or African American                      76\n",
       "Unknown                                                 42\n",
       "Some other race                                         20\n",
       "white                                                   12\n",
       "Asian American                                          11\n",
       "White                                                    7\n",
       "Asian                                                    6\n",
       "Latino                                                   5\n",
       "Black                                                    4\n",
       "Native American or Alaska Native                         3\n",
       "black                                                    3\n",
       "Two or more races                                        2\n",
       "Other                                                    2\n",
       "Black American or African American/Unknown               1\n",
       "White American or European American/Some other Race      1\n",
       "Asian American/Some other race                           1\n",
       "Name: Race, dtype: int64"
      ]
     },
     "execution_count": 23,
     "metadata": {},
     "output_type": "execute_result"
    }
   ],
   "source": [
    "df['Race'].value_counts()"
   ]
  },
  {
   "cell_type": "code",
   "execution_count": 24,
   "metadata": {},
   "outputs": [],
   "source": [
    "#we observe that we can combine many races and some of the races are repeted twice due to character difference like white and White\n",
    "df.replace({'white':'White','black':'Black','Black American or African American':'Black American or African American/Unknown','White American or European American': 'White American or European American/Some other Race' ,'Asian American':'Asian American/Some other race'},inplace=True)"
   ]
  },
  {
   "cell_type": "code",
   "execution_count": 25,
   "metadata": {},
   "outputs": [
    {
     "ename": "SyntaxError",
     "evalue": "invalid syntax (<ipython-input-25-b9c8664da575>, line 2)",
     "output_type": "error",
     "traceback": [
      "\u001b[1;36m  File \u001b[1;32m\"<ipython-input-25-b9c8664da575>\"\u001b[1;36m, line \u001b[1;32m2\u001b[0m\n\u001b[1;33m    df['Race']=df['Race'].apply(lambda x:'Other' if x=='Two or more races'or x=='Some other race' or else x)\u001b[0m\n\u001b[1;37m                                                                                                        ^\u001b[0m\n\u001b[1;31mSyntaxError\u001b[0m\u001b[1;31m:\u001b[0m invalid syntax\n"
     ]
    }
   ],
   "source": [
    "#we can combine some other race ,two or more race,unknown,other\n",
    "df['Race']=df['Race'].apply(lambda x:'Other' if x=='Two or more races'or x=='Some other race' or else x)"
   ]
  },
  {
   "cell_type": "code",
   "execution_count": 26,
   "metadata": {},
   "outputs": [
    {
     "data": {
      "text/plain": [
       "<matplotlib.axes._subplots.AxesSubplot at 0x21e7cc38048>"
      ]
     },
     "execution_count": 26,
     "metadata": {},
     "output_type": "execute_result"
    },
    {
     "data": {
      "image/png": "[encoded data removed]",
      "text/plain": [
       "<Figure size 1296x360 with 1 Axes>"
      ]
     },
     "metadata": {
      "needs_background": "light"
     },
     "output_type": "display_data"
    }
   ],
   "source": [
    "df['Race'].value_counts(ascending=True).plot(kind='barh')"
   ]
  },
  {
   "cell_type": "code",
   "execution_count": 27,
   "metadata": {},
   "outputs": [
    {
     "data": {
      "text/plain": [
       "<matplotlib.axes._subplots.AxesSubplot at 0x21e7cc9e388>"
      ]
     },
     "execution_count": 27,
     "metadata": {},
     "output_type": "execute_result"
    },
    {
     "data": {
      "image/png": "[encoded data removed]",
      "text/plain": [
       "<Figure size 1296x360 with 1 Axes>"
      ]
     },
     "metadata": {
      "needs_background": "light"
     },
     "output_type": "display_data"
    }
   ],
   "source": [
    "sns.countplot(df['Gender'])"
   ]
  },
  {
   "cell_type": "code",
   "execution_count": 29,
   "metadata": {},
   "outputs": [],
   "source": [
    "df['Gender']=df['Gender'].apply(lambda x:'Male'if x=='M'else x)\n",
    "df['Gender']=df['Gender'].apply(lambda x:'Unknown'if x=='Male/Female'or x=='M/F' else x)"
   ]
  },
  {
   "cell_type": "code",
   "execution_count": 33,
   "metadata": {},
   "outputs": [
    {
     "data": {
      "text/plain": [
       "Male       289\n",
       "Unknown     26\n",
       "Female       5\n",
       "Name: Gender, dtype: int64"
      ]
     },
     "execution_count": 33,
     "metadata": {},
     "output_type": "execute_result"
    }
   ],
   "source": [
    "df['Gender'].value_counts()"
   ]
  },
  {
   "cell_type": "code",
   "execution_count": 34,
   "metadata": {},
   "outputs": [
    {
     "data": {
      "text/plain": [
       "<matplotlib.axes._subplots.AxesSubplot at 0x21e7cdb4f48>"
      ]
     },
     "execution_count": 34,
     "metadata": {},
     "output_type": "execute_result"
    },
    {
     "data": {
      "image/png": "[encoded data removed]",
      "text/plain": [
       "<Figure size 720x360 with 1 Axes>"
      ]
     },
     "metadata": {
      "needs_background": "light"
     },
     "output_type": "display_data"
    }
   ],
   "source": [
    "plt.rcParams[\"figure.figsize\"]=(10,5)\n",
    "sns.countplot(df['Gender'])"
   ]
  },
  {
   "cell_type": "code",
   "execution_count": 35,
   "metadata": {},
   "outputs": [
    {
     "data": {
      "text/plain": [
       "Unknown    110\n",
       "Yes        106\n",
       "No          90\n",
       "Unclear     13\n",
       "unknown      1\n",
       "Name: Mental Health Issues, dtype: int64"
      ]
     },
     "execution_count": 35,
     "metadata": {},
     "output_type": "execute_result"
    }
   ],
   "source": [
    "df['Mental Health Issues'].value_counts()"
   ]
  },
  {
   "cell_type": "code",
   "execution_count": 38,
   "metadata": {},
   "outputs": [],
   "source": [
    "df['Mental Health Issues']=df['Mental Health Issues'].apply(lambda x:'Unclear'if x=='Unknown'or x=='unknown'else x)"
   ]
  },
  {
   "cell_type": "code",
   "execution_count": 39,
   "metadata": {},
   "outputs": [
    {
     "data": {
      "text/plain": [
       "Unclear    124\n",
       "Yes        106\n",
       "No          90\n",
       "Name: Mental Health Issues, dtype: int64"
      ]
     },
     "execution_count": 39,
     "metadata": {},
     "output_type": "execute_result"
    }
   ],
   "source": [
    "df['Mental Health Issues'].value_counts()"
   ]
  },
  {
   "cell_type": "code",
   "execution_count": 43,
   "metadata": {},
   "outputs": [],
   "source": [
    "#Now let us find state wise total cases\n",
    "df['State']=df['Location'].str.rpartition(',')[2]"
   ]
  },
  {
   "cell_type": "code",
   "execution_count": 44,
   "metadata": {
    "scrolled": true
   },
   "outputs": [
    {
     "data": {
      "text/plain": [
       " California        29\n",
       " Florida           20\n",
       " Texas             16\n",
       " Washington        14\n",
       " Georgia           13\n",
       " North Carolina    11\n",
       " Arizona           11\n",
       " Ohio              10\n",
       " New York          10\n",
       " Alabama            9\n",
       " Illinois           9\n",
       " Wisconsin          9\n",
       " Pennsylvania       8\n",
       " Colorado           6\n",
       " Michigan           6\n",
       " South Carolina     5\n",
       " Nevada             5\n",
       " Kentucky           5\n",
       " Oklahoma           5\n",
       " Virginia           5\n",
       " Tennessee          5\n",
       " Louisiana          4\n",
       " Oregon             4\n",
       " Kansas             4\n",
       " Mississippi        4\n",
       " Massachusetts      4\n",
       " Minnesota          4\n",
       " Missouri           3\n",
       " Connecticut        3\n",
       " Nebraska           3\n",
       " New Jersey         3\n",
       " New Mexico         3\n",
       " Arkansas           2\n",
       " Montana            2\n",
       " CA                 2\n",
       " Utah               2\n",
       " Vermont            1\n",
       " NV                 1\n",
       " Wyoming            1\n",
       " WA                 1\n",
       " Alaska             1\n",
       " LA                 1\n",
       "  Virginia          1\n",
       " South Dakota       1\n",
       " Maine              1\n",
       " Iowa               1\n",
       " Idaho              1\n",
       " West Virginia      1\n",
       " PA                 1\n",
       " Texas              1\n",
       "Washington D.C.     1\n",
       " Indiana            1\n",
       " Hawaii             1\n",
       "Name: State, dtype: int64"
      ]
     },
     "execution_count": 44,
     "metadata": {},
     "output_type": "execute_result"
    }
   ],
   "source": [
    "df['State'].value_counts()"
   ]
  },
  {
   "cell_type": "code",
   "execution_count": 45,
   "metadata": {},
   "outputs": [
    {
     "data": {
      "text/plain": [
       "<matplotlib.axes._subplots.AxesSubplot at 0x21e7da5ab88>"
      ]
     },
     "execution_count": 45,
     "metadata": {},
     "output_type": "execute_result"
    },
    {
     "data": {
      "image/png": "[encoded data removed]",
      "text/plain": [
       "<Figure size 1296x360 with 1 Axes>"
      ]
     },
     "metadata": {
      "needs_background": "light"
     },
     "output_type": "display_data"
    }
   ],
   "source": [
    "sns.scatterplot(x='Total victims',y='Fatalities',data=df)"
   ]
  },
  {
   "cell_type": "code",
   "execution_count": 65,
   "metadata": {},
   "outputs": [],
   "source": [
    "df.loc[2,['Location']]=['Las Vegas, NV']"
   ]
  },
  {
   "cell_type": "code",
   "execution_count": 66,
   "metadata": {},
   "outputs": [
    {
     "data": {
      "text/plain": [
       "Title                                   Pennsylvania supermarket shooting\n",
       "Location                                                    Las Vegas, NV\n",
       "Date                                                  2017-06-07 00:00:00\n",
       "Summary                 Randy Stair, a 24-year-old worker at Weis groc...\n",
       "Fatalities                                                              3\n",
       "Injured                                                                 0\n",
       "Total victims                                                           3\n",
       "Mental Health Issues                                              Unclear\n",
       "Race                                                                White\n",
       "Gender                                                               Male\n",
       "Latitude                                                              NaN\n",
       "Longitude                                                             NaN\n",
       "Year                                                                 2017\n",
       "Weekday                                                         Wednesday\n",
       "State                                                                  PA\n",
       "Name: 2, dtype: object"
      ]
     },
     "execution_count": 66,
     "metadata": {},
     "output_type": "execute_result"
    }
   ],
   "source": [
    "df.iloc[2]"
   ]
  },
  {
   "cell_type": "code",
   "execution_count": 74,
   "metadata": {},
   "outputs": [
    {
     "data": {
      "text/plain": [
       "58"
      ]
     },
     "execution_count": 74,
     "metadata": {},
     "output_type": "execute_result"
    }
   ],
   "source": [
    "np.max(df['Fatalities'].values)"
   ]
  },
  {
   "cell_type": "code",
   "execution_count": null,
   "metadata": {},
   "outputs": [],
   "source": []
  }
 ],
 "metadata": {
  "kernelspec": {
   "display_name": "Python 3",
   "language": "python",
   "name": "python3"
  },
  "language_info": {
   "codemirror_mode": {
    "name": "ipython",
    "version": 3
   },
   "file_extension": ".py",
   "mimetype": "text/x-python",
   "name": "python",
   "nbconvert_exporter": "python",
   "pygments_lexer": "ipython3",
   "version": "3.7.6"
  }
 },
 "nbformat": 4,
 "nbformat_minor": 4
}
